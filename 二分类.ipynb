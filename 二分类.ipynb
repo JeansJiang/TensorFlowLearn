{
 "cells": [
  {
   "cell_type": "code",
   "execution_count": 25,
   "metadata": {
    "collapsed": false
   },
   "outputs": [
    {
     "name": "stdout",
     "output_type": "stream",
     "text": [
      "[[-0.81131822  1.48459876  0.06532937]\n",
      " [-2.4427042   0.0992484   0.59122431]]\n",
      "[[-0.81131822]\n",
      " [ 1.48459876]\n",
      " [ 0.06532937]]\n",
      "steps:0,cross entropy on all data:0.0674925\n",
      "steps:1000,cross entropy on all data:0.0163385\n",
      "steps:2000,cross entropy on all data:0.00907547\n",
      "steps:3000,cross entropy on all data:0.00714436\n",
      "steps:4000,cross entropy on all data:0.00578471\n",
      "steps:5000,cross entropy on all data:0.00430222\n",
      "steps:6000,cross entropy on all data:0.00280812\n",
      "steps:7000,cross entropy on all data:0.00137464\n",
      "steps:8000,cross entropy on all data:2.11566e-05\n",
      "steps:9000,cross entropy on all data:-0\n",
      "[[-2.59392238  3.18602753  2.38825655]\n",
      " [-4.1101799   1.68263638  2.83427358]]\n",
      "[[-2.4300375 ]\n",
      " [ 3.33411145]\n",
      " [ 2.10067439]]\n"
     ]
    }
   ],
   "source": [
    "import tensorflow as tf\n",
    "\n",
    "#通过numpy工具包生成模拟数据集\n",
    "from numpy.random import RandomState\n",
    "\n",
    "#定义训练数据batch大小\n",
    "batch_size=8\n",
    "\n",
    "#定义神经网络参数\n",
    "w1=tf.Variable(tf.random_normal([2,3],stddev=1,seed=1))\n",
    "w2=tf.Variable(tf.random_normal([3,1],stddev=1,seed=1))\n",
    "\n",
    "#在shape的第一个维度使用None，可以方便不同的batch大小\n",
    "x=tf.placeholder(tf.float32,shape=(None,2),name='x-input')\n",
    "y_=tf.placeholder(tf.float32,shape=(None,1),name='y-input')\n",
    "\n",
    "#定义神经网络前向传播过程\n",
    "a=tf.matmul(x,w1)\n",
    "y=tf.matmul(a,w2)\n",
    "\n",
    "#定义损失函数和反向传播算法\n",
    "cross_entropy=-tf.reduce_mean(y_*tf.log(tf.clip_by_value(y,1e-10,1.0)))\n",
    "train_step=tf.train.AdamOptimizer(0.001).minimize(cross_entropy)\n",
    "\n",
    "#通过随机数生成一个模拟数据集\n",
    "rdm=RandomState(1)\n",
    "dataset_size=128\n",
    "X=rdm.rand(dataset_size,2)\n",
    "\n",
    "#定义规则给出样本标签\n",
    "Y=[[int(x1+x2<1)] for (x1,x2) in X]\n",
    "\n",
    "#创建一个会话来运行tensorflow程序\n",
    "with tf.Session() as sess:\n",
    "    init_op=tf.initialize_all_variables()\n",
    "    #初始化变量\n",
    "    sess.run(init_op)\n",
    "    print (sess.run(w1))\n",
    "    print (sess.run(w2))\n",
    "    \n",
    "    #设定训练轮数\n",
    "    STEP=10000\n",
    "    for i in range(STEP):\n",
    "        #每次取batch_size个样本进行训练\n",
    "        start=(i*batch_size)%dataset_size\n",
    "        end=min(start+batch_size,dataset_size)\n",
    "        \n",
    "        #通过选取的样本训练神经网络并更新参数\n",
    "        feed_dict={x: X[start:end], y_: Y[start:end]}\n",
    "        sess.run(train_step,feed_dict)\n",
    "        if i%1000==0:\n",
    "            #每隔一段时间计算所有数据上的交叉熵并输出\n",
    "            total_cross_entropy=sess.run(cross_entropy,feed_dict={x:X,y_:Y})\n",
    "            print('steps:%d,cross entropy on all data:%g'%(i,total_cross_entropy))\n",
    "    \n",
    "    print (sess.run(w1))\n",
    "    print (sess.run(w2))"
   ]
  }
 ],
 "metadata": {
  "anaconda-cloud": {},
  "kernelspec": {
   "display_name": "Python [default]",
   "language": "python",
   "name": "python3"
  },
  "language_info": {
   "codemirror_mode": {
    "name": "ipython",
    "version": 3
   },
   "file_extension": ".py",
   "mimetype": "text/x-python",
   "name": "python",
   "nbconvert_exporter": "python",
   "pygments_lexer": "ipython3",
   "version": "3.5.2"
  }
 },
 "nbformat": 4,
 "nbformat_minor": 1
}
